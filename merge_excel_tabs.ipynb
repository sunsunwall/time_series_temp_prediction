{
 "cells": [
  {
   "cell_type": "markdown",
   "id": "6dc74f64",
   "metadata": {},
   "source": [
    "### Merging several tabs into one\n",
    "\n",
    "**INCOMPLETE FILE**\n",
    "\n",
    "I download data for several features (Temp, Relative Humidity etc) from SMHI (Swedish meteorological institute).\n",
    "I started with data from 2020 until 2025 (inclusive).\n",
    "The data is saved in an excel in different tabs - in order to start exploratory data analysis (EDA) I want to combine all tabs into one.\n",
    "\n",
    "I created this code (assited by ChatGPT and/or Claude) to merge all tabs.\n",
    "\n",
    "*Some code blocks went missing after the file was merged and created. I forgot to save before closing my IDE.*\n",
    "\n"
   ]
  },
  {
   "cell_type": "code",
   "execution_count": 1,
   "id": "b7aebfd3",
   "metadata": {},
   "outputs": [],
   "source": [
    "import pandas as pd\n",
    "from functools import reduce"
   ]
  },
  {
   "cell_type": "code",
   "execution_count": 2,
   "id": "6423ecf4",
   "metadata": {},
   "outputs": [],
   "source": [
    "file_path = r'C:\\Users\\SunnyVanderwall\\Documents\\Random\\historic_weather_data_smhi.xlsx'\n",
    "\n",
    "# Mapping: which columns and how to rename quality columns\n",
    "extraction_plan = {\n",
    "    \"SMHI Temp Bromma Flyg 2020-01 -\": {\n",
    "        \"header_row\": 9,\n",
    "        \"usecols\": [0, 1, 3, 4],  # Datum, Tid (UTC), Lufttemperatur, Kvalitet\n",
    "        \"renames\": {'Kvalitet': 'Lufttemperatur Kvalitet'}\n",
    "    },\n",
    "    \"SMHI Precipitation Adelsö 2020-\": {\n",
    "        \"header_row\": 9,\n",
    "        \"usecols\": [0, 1, 2, 3],\n",
    "        \"renames\": {'Kvalitet': 'Nederbördsmängd Kvalitet'}\n",
    "    },\n",
    "    \"SMHI Wind Dir, Speed Bromma Fly\": {\n",
    "        \"header_row\": 10,\n",
    "        \"usecols\": [0, 1, 2, 3, 4, 5],\n",
    "        \"renames\": {'Kvalitet': 'Vindriktning Kvalitet', 'Kvalitet.1': 'Vindhastighet Kvalitet'}\n",
    "    },\n",
    "    \"SMHI RH Bromma Flyg 2020-01 - 2\": {\n",
    "        \"header_row\": 9,\n",
    "        \"usecols\": [0, 1, 2, 3],\n",
    "        \"renames\": {'Kvalitet': 'Relativ Luftfuktighet Kvalitet'}\n",
    "    },\n",
    "    \"SMHI Solar Rad Stockholm Sol 20\": {\n",
    "        \"header_row\": 10,\n",
    "        \"usecols\": [0, 1, 2, 3, 4, 5],\n",
    "        \"renames\": {\n",
    "            'Kvalitet': 'Global Irradians Kvalitet',\n",
    "            'Kvalitet.1': 'Solskenstid Kvalitet'\n",
    "        }\n",
    "    }\n",
    "}"
   ]
  },
  {
   "cell_type": "code",
   "execution_count": 3,
   "id": "04a0b986",
   "metadata": {},
   "outputs": [
    {
     "ename": "TypeError",
     "evalue": "read_excel() missing 1 required positional argument: 'io'",
     "output_type": "error",
     "traceback": [
      "\u001b[1;31m---------------------------------------------------------------------------\u001b[0m",
      "\u001b[1;31mTypeError\u001b[0m                                 Traceback (most recent call last)",
      "Cell \u001b[1;32mIn[3], line 5\u001b[0m\n\u001b[0;32m      1\u001b[0m metric_dfs \u001b[38;5;241m=\u001b[39m []\n\u001b[0;32m      3\u001b[0m \u001b[38;5;28;01mfor\u001b[39;00m sheet, plan \u001b[38;5;129;01min\u001b[39;00m extraction_plan\u001b[38;5;241m.\u001b[39mitems():\n\u001b[1;32m----> 5\u001b[0m     df \u001b[38;5;241m=\u001b[39m \u001b[43mpd\u001b[49m\u001b[38;5;241;43m.\u001b[39;49m\u001b[43mread_excel\u001b[49m\u001b[43m(\u001b[49m\u001b[43m)\u001b[49m\n",
      "\u001b[1;31mTypeError\u001b[0m: read_excel() missing 1 required positional argument: 'io'"
     ]
    }
   ],
   "source": [
    "metric_dfs = []\n",
    "\n",
    "for sheet, plan in extraction_plan.items():\n",
    "\n",
    "    df = pd.read_excel()\n"
   ]
  },
  {
   "cell_type": "markdown",
   "id": "7542ebb5",
   "metadata": {},
   "source": [
    "### Rename Swedish column names to english"
   ]
  },
  {
   "cell_type": "code",
   "execution_count": 18,
   "id": "785cf673",
   "metadata": {},
   "outputs": [
    {
     "name": "stdout",
     "output_type": "stream",
     "text": [
      "<class 'pandas.core.frame.DataFrame'>\n",
      "RangeIndex: 48192 entries, 0 to 48191\n",
      "Data columns (total 16 columns):\n",
      " #   Column                                     Non-Null Count  Dtype  \n",
      "---  ------                                     --------------  -----  \n",
      " 0   Datum                                      48192 non-null  object \n",
      " 1   Tid (UTC)                                  48192 non-null  object \n",
      " 2   Lufttemperatur                             47836 non-null  float64\n",
      " 3   Lufttemperatur Kvalitet                    47836 non-null  object \n",
      " 4   Nederbördsmängd                            47384 non-null  float64\n",
      " 5   Nederbördsmängd Kvalitet                   47384 non-null  object \n",
      " 6   Vindriktning                               47809 non-null  float64\n",
      " 7   Vindriktning Kvalitet                      47809 non-null  object \n",
      " 8   Vindhastighet                              47808 non-null  float64\n",
      " 9   Vindhastighet Kvalitet                     47808 non-null  object \n",
      " 10  Relativ Luftfuktighet                      47749 non-null  float64\n",
      " 11  Relativ Luftfuktighet Kvalitet             47749 non-null  object \n",
      " 12  Global Irradians (svenska stationer) W/m²  48192 non-null  float64\n",
      " 13  Global Irradians Kvalitet                  48192 non-null  object \n",
      " 14  Solskenstid (s)                            48192 non-null  int64  \n",
      " 15  Solskenstid Kvalitet                       48192 non-null  object \n",
      "dtypes: float64(6), int64(1), object(9)\n",
      "memory usage: 5.9+ MB\n"
     ]
    }
   ],
   "source": [
    "# use the r prefix to create this as a raw string literal since Python interprets backslashes as an escape character.\n",
    "file_path = r'C:\\Users\\SunnyVanderwall\\Documents\\time_series_summer_ml\\merged_weather_data_smhi.csv'\n",
    "\n",
    "df = pd.read_csv(file_path)\n",
    "\n",
    "df.info()"
   ]
  },
  {
   "cell_type": "code",
   "execution_count": 8,
   "id": "7500dc38",
   "metadata": {},
   "outputs": [
    {
     "data": {
      "text/plain": [
       "['Datum',\n",
       " 'Tid (UTC)',\n",
       " 'Lufttemperatur',\n",
       " 'Lufttemperatur Kvalitet',\n",
       " 'Nederbördsmängd',\n",
       " 'Nederbördsmängd Kvalitet',\n",
       " 'Vindriktning',\n",
       " 'Vindriktning Kvalitet',\n",
       " 'Vindhastighet',\n",
       " 'Vindhastighet Kvalitet',\n",
       " 'Relativ Luftfuktighet',\n",
       " 'Relativ Luftfuktighet Kvalitet',\n",
       " 'Global Irradians (svenska stationer) W/m²',\n",
       " 'Global Irradians Kvalitet',\n",
       " 'Solskenstid (s)',\n",
       " 'Solskenstid Kvalitet']"
      ]
     },
     "execution_count": 8,
     "metadata": {},
     "output_type": "execute_result"
    }
   ],
   "source": [
    "swe_column_names = []\n",
    "\n",
    "for col in df.columns:\n",
    "\n",
    "    swe_column_names.append(col)\n",
    "\n",
    "swe_column_names"
   ]
  },
  {
   "cell_type": "code",
   "execution_count": 9,
   "id": "3c47f9da",
   "metadata": {},
   "outputs": [],
   "source": [
    "eng_column_names = ['Date',\n",
    " 'Time (UTC)',\n",
    " 'Air Temperature',\n",
    " 'Air Temperature Quality',\n",
    " 'Precipitation Amount',\n",
    " 'Precipitation Amount Quality',\n",
    " 'Wind Direction',\n",
    " 'Wind Direction Quality',\n",
    " 'Wind Speed',\n",
    " 'Wind Speed Quality',\n",
    " 'Relative Humidity',\n",
    " 'Relative Humidity Quality',\n",
    " 'Global Irradiance (Swedish stations) W/m²',\n",
    " 'Global Irradiance Quality',\n",
    " 'Sunshine Duration (s)',\n",
    " 'Sunshine Duration Quality']"
   ]
  },
  {
   "cell_type": "code",
   "execution_count": 33,
   "id": "05f0aaf3",
   "metadata": {},
   "outputs": [
    {
     "data": {
      "text/plain": [
       "Index(['Date', 'Time (UTC)', 'Air Temperature', 'Air Temperature Quality',\n",
       "       'Precipitation Amount', 'Precipitation Amount Quality',\n",
       "       'Wind Direction', 'Wind Direction Quality', 'Wind Speed',\n",
       "       'Wind Speed Quality', 'Relative Humidity', 'Relative Humidity Quality',\n",
       "       'Global Irradiance (Swedish stations) W/m²',\n",
       "       'Global Irradiance Quality', 'Sunshine Duration (s)',\n",
       "       'Sunshine Duration Quality'],\n",
       "      dtype='object')"
      ]
     },
     "execution_count": 33,
     "metadata": {},
     "output_type": "execute_result"
    }
   ],
   "source": [
    "# The .columns attribute returns an index object with the columns names.\n",
    "# We can change the name of each entry in the index with another indexable object, like a list of matching length.\n",
    "# If the index objects are not of the same lengths - python will throw an error.\n",
    "# For partial updates (only one or two columns) using .rename is a better method.\n",
    "\n",
    "df.columns = eng_column_names\n",
    "\n",
    "# Column names translated from Swedish to English.\n",
    "df.columns"
   ]
  },
  {
   "cell_type": "code",
   "execution_count": 34,
   "id": "c9d4769c",
   "metadata": {},
   "outputs": [
    {
     "name": "stdout",
     "output_type": "stream",
     "text": [
      "<class 'pandas.core.frame.DataFrame'>\n",
      "RangeIndex: 48192 entries, 0 to 48191\n",
      "Data columns (total 16 columns):\n",
      " #   Column                                     Non-Null Count  Dtype  \n",
      "---  ------                                     --------------  -----  \n",
      " 0   Date                                       48192 non-null  object \n",
      " 1   Time (UTC)                                 48192 non-null  object \n",
      " 2   Air Temperature                            47836 non-null  float64\n",
      " 3   Air Temperature Quality                    47836 non-null  object \n",
      " 4   Precipitation Amount                       47384 non-null  float64\n",
      " 5   Precipitation Amount Quality               47384 non-null  object \n",
      " 6   Wind Direction                             47809 non-null  float64\n",
      " 7   Wind Direction Quality                     47809 non-null  object \n",
      " 8   Wind Speed                                 47808 non-null  float64\n",
      " 9   Wind Speed Quality                         47808 non-null  object \n",
      " 10  Relative Humidity                          47749 non-null  float64\n",
      " 11  Relative Humidity Quality                  47749 non-null  object \n",
      " 12  Global Irradiance (Swedish stations) W/m²  48192 non-null  float64\n",
      " 13  Global Irradiance Quality                  48192 non-null  object \n",
      " 14  Sunshine Duration (s)                      48192 non-null  int64  \n",
      " 15  Sunshine Duration Quality                  48192 non-null  object \n",
      "dtypes: float64(6), int64(1), object(9)\n",
      "memory usage: 5.9+ MB\n"
     ]
    }
   ],
   "source": [
    "df.info()"
   ]
  },
  {
   "cell_type": "code",
   "execution_count": 35,
   "id": "e5681c14",
   "metadata": {},
   "outputs": [],
   "source": [
    "df.to_csv('merged_weater_features_eng', index=False)"
   ]
  },
  {
   "cell_type": "code",
   "execution_count": null,
   "id": "e021d736",
   "metadata": {},
   "outputs": [],
   "source": []
  }
 ],
 "metadata": {
  "kernelspec": {
   "display_name": "machine_learning",
   "language": "python",
   "name": "python3"
  },
  "language_info": {
   "codemirror_mode": {
    "name": "ipython",
    "version": 3
   },
   "file_extension": ".py",
   "mimetype": "text/x-python",
   "name": "python",
   "nbconvert_exporter": "python",
   "pygments_lexer": "ipython3",
   "version": "3.11.11"
  }
 },
 "nbformat": 4,
 "nbformat_minor": 5
}
