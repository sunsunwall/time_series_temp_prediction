{
 "cells": [
  {
   "cell_type": "code",
   "execution_count": 1,
   "id": "b7aebfd3",
   "metadata": {},
   "outputs": [],
   "source": [
    "import pandas as pd\n",
    "from functools import reduce"
   ]
  },
  {
   "cell_type": "code",
   "execution_count": 4,
   "id": "6423ecf4",
   "metadata": {},
   "outputs": [],
   "source": [
    "file_path = r'C:\\Users\\SunnyVanderwall\\Documents\\Random\\historic_weather_data_smhi.xlsx'\n",
    "\n",
    "# Mapping: which columns and how to rename quality columns\n",
    "extraction_plan = {\n",
    "    \"SMHI Temp Bromma Flyg 2020-01 -\": {\n",
    "        \"header_row\": 9,\n",
    "        \"usecols\": [0, 1, 3, 4],  # Datum, Tid (UTC), Lufttemperatur, Kvalitet\n",
    "        \"renames\": {'Kvalitet': 'Lufttemperatur Kvalitet'}\n",
    "    },\n",
    "    \"SMHI Precipitation Adelsö 2020-\": {\n",
    "        \"header_row\": 9,\n",
    "        \"usecols\": [0, 1, 2, 3],\n",
    "        \"renames\": {'Kvalitet': 'Nederbördsmängd Kvalitet'}\n",
    "    },\n",
    "    \"SMHI Wind Dir, Speed Bromma Fly\": {\n",
    "        \"header_row\": 10,\n",
    "        \"usecols\": [0, 1, 2, 3, 4, 5],\n",
    "        \"renames\": {'Kvalitet': 'Vindriktning Kvalitet', 'Kvalitet.1': 'Vindhastighet Kvalitet'}\n",
    "    },\n",
    "    \"SMHI RH Bromma Flyg 2020-01 - 2\": {\n",
    "        \"header_row\": 9,\n",
    "        \"usecols\": [0, 1, 2, 3],\n",
    "        \"renames\": {'Kvalitet': 'Relativ Luftfuktighet Kvalitet'}\n",
    "    },\n",
    "    \"SMHI Solar Rad Stockholm Sol 20\": {\n",
    "        \"header_row\": 10,\n",
    "        \"usecols\": [0, 1, 2, 3, 4, 5],\n",
    "        \"renames\": {\n",
    "            'Kvalitet': 'Global Irradians Kvalitet',\n",
    "            'Kvalitet.1': 'Solskenstid Kvalitet'\n",
    "        }\n",
    "    }\n",
    "}"
   ]
  },
  {
   "cell_type": "code",
   "execution_count": null,
   "id": "04a0b986",
   "metadata": {},
   "outputs": [],
   "source": [
    "metric_dfs = []\n",
    "\n",
    "for sheet, plan in extraction_plan.items():\n",
    "\n",
    "    df = pd.read_excel()\n"
   ]
  }
 ],
 "metadata": {
  "kernelspec": {
   "display_name": "machine_learning",
   "language": "python",
   "name": "python3"
  },
  "language_info": {
   "codemirror_mode": {
    "name": "ipython",
    "version": 3
   },
   "file_extension": ".py",
   "mimetype": "text/x-python",
   "name": "python",
   "nbconvert_exporter": "python",
   "pygments_lexer": "ipython3",
   "version": "3.11.11"
  }
 },
 "nbformat": 4,
 "nbformat_minor": 5
}
