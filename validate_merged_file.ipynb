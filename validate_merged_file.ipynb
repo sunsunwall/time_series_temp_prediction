{
 "cells": [
  {
   "cell_type": "code",
   "execution_count": 1,
   "id": "42cca887",
   "metadata": {},
   "outputs": [],
   "source": [
    "import pandas as pd\n",
    "import numpy as np"
   ]
  },
  {
   "cell_type": "code",
   "execution_count": 3,
   "id": "1a88628d",
   "metadata": {},
   "outputs": [
    {
     "name": "stdout",
     "output_type": "stream",
     "text": [
      "\n",
      "--- SHAPE ---\n",
      "Rows: 48192, Columns: 16\n",
      "\n",
      "--- COLUMNS ---\n",
      "['Date', 'Time (UTC)', 'Air Temperature', 'Air Temperature Quality', 'Precipitation Amount', 'Precipitation Amount Quality', 'Wind Direction', 'Wind Direction Quality', 'Wind Speed', 'Wind Speed Quality', 'Relative Humidity', 'Relative Humidity Quality', 'Global Irradiance (Swedish stations) W/m²', 'Global Irradiance Quality', 'Sunshine Duration (s)', 'Sunshine Duration Quality']\n"
     ]
    }
   ],
   "source": [
    "# 1. Load the data\n",
    "df = pd.read_csv(r\"C:\\Users\\SunnyVanderwall\\Documents\\time_series_summer_ml\\merged_weater_features_eng\")\n",
    "\n",
    "# 2. Show shape and columns\n",
    "print(\"\\n--- SHAPE ---\")\n",
    "print(f\"Rows: {df.shape[0]}, Columns: {df.shape[1]}\")\n",
    "print(\"\\n--- COLUMNS ---\")\n",
    "print(df.columns.tolist())"
   ]
  },
  {
   "cell_type": "code",
   "execution_count": 4,
   "id": "9fae10b0",
   "metadata": {},
   "outputs": [
    {
     "name": "stdout",
     "output_type": "stream",
     "text": [
      "\n",
      "--- FIRST 5 ROWS ---\n",
      "         Date Time (UTC)  Air Temperature Air Temperature Quality  \\\n",
      "0  2020-01-01   00:00:00              2.0                       G   \n",
      "1  2020-01-01   01:00:00              2.2                       G   \n",
      "2  2020-01-01   02:00:00              2.2                       G   \n",
      "3  2020-01-01   03:00:00              1.6                       G   \n",
      "4  2020-01-01   04:00:00              1.5                       G   \n",
      "\n",
      "   Precipitation Amount Precipitation Amount Quality  Wind Direction  \\\n",
      "0                   0.0                            G           250.0   \n",
      "1                   0.0                            G           250.0   \n",
      "2                   0.0                            G           240.0   \n",
      "3                   0.0                            G           240.0   \n",
      "4                   0.0                            G           230.0   \n",
      "\n",
      "  Wind Direction Quality  Wind Speed Wind Speed Quality  Relative Humidity  \\\n",
      "0                      G         3.0                  G               66.0   \n",
      "1                      G         3.0                  G               64.0   \n",
      "2                      G         3.0                  G               64.0   \n",
      "3                      G         3.0                  G               70.0   \n",
      "4                      G         3.0                  G               74.0   \n",
      "\n",
      "  Relative Humidity Quality  Global Irradiance (Swedish stations) W/m²  \\\n",
      "0                         Y                                        0.0   \n",
      "1                         Y                                        0.0   \n",
      "2                         Y                                        0.0   \n",
      "3                         Y                                        0.0   \n",
      "4                         Y                                        0.0   \n",
      "\n",
      "  Global Irradiance Quality  Sunshine Duration (s) Sunshine Duration Quality  \n",
      "0                         G                      0                         G  \n",
      "1                         G                      0                         G  \n",
      "2                         G                      0                         G  \n",
      "3                         G                      0                         G  \n",
      "4                         G                      0                         G  \n"
     ]
    }
   ],
   "source": [
    "# 3. Show first and last 5 rows (peek for weirdness)\n",
    "print(\"\\n--- FIRST 5 ROWS ---\")\n",
    "print(df.head())"
   ]
  },
  {
   "cell_type": "code",
   "execution_count": 5,
   "id": "f8aa5bc0",
   "metadata": {},
   "outputs": [
    {
     "name": "stdout",
     "output_type": "stream",
     "text": [
      "\n",
      "--- LAST 5 ROWS ---\n",
      "             Date Time (UTC)  Air Temperature Air Temperature Quality  \\\n",
      "48187  2025-06-30   19:00:00             20.9                       G   \n",
      "48188  2025-06-30   20:00:00             18.7                       G   \n",
      "48189  2025-06-30   21:00:00             14.8                       G   \n",
      "48190  2025-06-30   22:00:00             14.3                       G   \n",
      "48191  2025-06-30   23:00:00             12.7                       G   \n",
      "\n",
      "       Precipitation Amount Precipitation Amount Quality  Wind Direction  \\\n",
      "48187                   0.0                            G           290.0   \n",
      "48188                   0.0                            G            60.0   \n",
      "48189                   0.0                            G           120.0   \n",
      "48190                   0.0                            G           120.0   \n",
      "48191                   0.0                            G           130.0   \n",
      "\n",
      "      Wind Direction Quality  Wind Speed Wind Speed Quality  \\\n",
      "48187                      G         3.0                  G   \n",
      "48188                      G         2.0                  G   \n",
      "48189                      G         4.0                  G   \n",
      "48190                      G         3.0                  G   \n",
      "48191                      G         1.0                  G   \n",
      "\n",
      "       Relative Humidity Relative Humidity Quality  \\\n",
      "48187               38.0                         Y   \n",
      "48188               49.0                         Y   \n",
      "48189               65.0                         Y   \n",
      "48190               66.0                         Y   \n",
      "48191               73.0                         Y   \n",
      "\n",
      "       Global Irradiance (Swedish stations) W/m² Global Irradiance Quality  \\\n",
      "48187                                     108.40                         Y   \n",
      "48188                                      26.86                         Y   \n",
      "48189                                       1.89                         Y   \n",
      "48190                                       0.17                         Y   \n",
      "48191                                       0.09                         Y   \n",
      "\n",
      "       Sunshine Duration (s) Sunshine Duration Quality  \n",
      "48187                   3600                         Y  \n",
      "48188                   2758                         Y  \n",
      "48189                      0                         Y  \n",
      "48190                      0                         Y  \n",
      "48191                      0                         Y  \n"
     ]
    }
   ],
   "source": [
    "print(\"\\n--- LAST 5 ROWS ---\")\n",
    "print(df.tail())"
   ]
  },
  {
   "cell_type": "code",
   "execution_count": 6,
   "id": "6ccb3a1b",
   "metadata": {},
   "outputs": [
    {
     "name": "stdout",
     "output_type": "stream",
     "text": [
      "\n",
      "--- DUPLICATE ROWS on ['Date', 'Time (UTC)']: 0\n"
     ]
    }
   ],
   "source": [
    "# 4. Duplicates and missing keys\n",
    "dupes = df.duplicated(subset=[\"Date\", \"Time (UTC)\"]).sum()\n",
    "print(f\"\\n--- DUPLICATE ROWS on ['Date', 'Time (UTC)']: {dupes}\")"
   ]
  },
  {
   "cell_type": "code",
   "execution_count": null,
   "id": "070ed758",
   "metadata": {},
   "outputs": [
    {
     "name": "stdout",
     "output_type": "stream",
     "text": [
      "Datetime parse errors: 0\n"
     ]
    }
   ],
   "source": [
    "# 5. Create datetime column for further analysis\n",
    "# Concatenate the values from the Date and Time columns.\n",
    "# Set the errors parameter to 'coerce' in order to avoid throwing errors and instead adding a missing value.\n",
    "df[\"Datetime\"] = pd.to_datetime(df[\"Date\"] + \" \" + df[\"Time (UTC)\"], errors=\"coerce\")\n",
    "missing_dt = df[\"Datetime\"].isna().sum()\n",
    "print(f\"Datetime parse errors: {missing_dt}\")"
   ]
  },
  {
   "cell_type": "code",
   "execution_count": 18,
   "id": "7ee5c9ca",
   "metadata": {},
   "outputs": [
    {
     "name": "stdout",
     "output_type": "stream",
     "text": [
      "Expected time steps: 48192, Actual: 48192, Missing: 0\n",
      "Missing times (if few): []\n"
     ]
    }
   ],
   "source": [
    "# 6. Check time step coverage \n",
    "\n",
    "df = df.sort_values(\"Datetime\")\n",
    "\n",
    "# Using pd.date_range, create an index object containing every hour we expect from the \n",
    "# first date to the last date in our dataset.\n",
    "# (changed freq='H' to freq='h' as 'H' is deprecated from Pandas)\n",
    "expected_hours = pd.date_range(df[\"Datetime\"].min(), df[\"Datetime\"].max(), freq=\"h\")\n",
    "actual_hours = pd.to_datetime(df[\"Datetime\"].dropna().unique())\n",
    "missing_times = set(expected_hours) - set(actual_hours)\n",
    "print(f\"Expected time steps: {len(expected_hours)}, Actual: {len(actual_hours)}, Missing: {len(missing_times)}\")\n",
    "if len(missing_times) < 30:\n",
    "    print(\"Missing times (if few):\", sorted(missing_times))\n",
    "\n"
   ]
  },
  {
   "cell_type": "code",
   "execution_count": null,
   "id": "0240f36a",
   "metadata": {},
   "outputs": [],
   "source": [
    "# 7. Check for NaNs and value ranges for all metric columns\n",
    "print(\"\\n--- NaN Percentage by Column ---\")\n",
    "print(df.isna().mean().sort_values(ascending=False).round(4) * 100)\n"
   ]
  },
  {
   "cell_type": "code",
   "execution_count": null,
   "id": "99fee353",
   "metadata": {},
   "outputs": [],
   "source": [
    "# 8. Quick plausible range checks for main columns (adjust as needed!)\n",
    "checks = [\n",
    "    (\"Lufttemperatur\", -50, 50),\n",
    "    (\"Nederbördsmängd\", 0, 200),\n",
    "    (\"Vindriktning\", 0, 360),\n",
    "    (\"Vindhastighet\", 0, 60),\n",
    "    (\"Relativ Luftfuktighet\", 0, 100),\n",
    "    (\"Global Irradians (svenska stationer) W/m²\", 0, 1500),\n",
    "    (\"Solskenstid (s)\", 0, 3600),\n",
    "]\n",
    "for col, vmin, vmax in checks:\n",
    "    if col in df.columns:\n",
    "        v = df[col]\n",
    "        print(f\"\\n{col}: min={v.min()}, max={v.max()}, <{vmin}={(v<vmin).sum()}, >{vmax}={(v>vmax).sum()}\")\n",
    "\n"
   ]
  },
  {
   "cell_type": "code",
   "execution_count": null,
   "id": "6ad5be15",
   "metadata": {},
   "outputs": [],
   "source": [
    "# 9. Show unique Kvalitet codes for each metric\n",
    "print(\"\\n--- Unique Kvalitet codes ---\")\n",
    "for c in df.columns:\n",
    "    if \"Kvalitet\" in c:\n",
    "        print(f\"{c}: {df[c].unique()}\")\n",
    "\n",
    "# 10. Show a random sample of 5 rows\n",
    "print(\"\\n--- RANDOM SAMPLE ---\")\n",
    "print(df.sample(5, random_state=42))"
   ]
  },
  {
   "cell_type": "markdown",
   "id": "84517153",
   "metadata": {},
   "source": []
  }
 ],
 "metadata": {
  "kernelspec": {
   "display_name": "machine_learning",
   "language": "python",
   "name": "python3"
  },
  "language_info": {
   "codemirror_mode": {
    "name": "ipython",
    "version": 3
   },
   "file_extension": ".py",
   "mimetype": "text/x-python",
   "name": "python",
   "nbconvert_exporter": "python",
   "pygments_lexer": "ipython3",
   "version": "3.11.11"
  }
 },
 "nbformat": 4,
 "nbformat_minor": 5
}
